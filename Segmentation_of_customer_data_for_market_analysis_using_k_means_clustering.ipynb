{
  "nbformat": 4,
  "nbformat_minor": 0,
  "metadata": {
    "colab": {
      "provenance": [],
      "authorship_tag": "ABX9TyOUcNKh2EmLeZJUDBB0LYB/",
      "include_colab_link": true
    },
    "kernelspec": {
      "name": "python3",
      "display_name": "Python 3"
    },
    "language_info": {
      "name": "python"
    }
  },
  "cells": [
    {
      "cell_type": "markdown",
      "metadata": {
        "id": "view-in-github",
        "colab_type": "text"
      },
      "source": [
        "<a href=\"https://colab.research.google.com/github/azeezkenny007/Club-House-Clone/blob/main/Segmentation_of_customer_data_for_market_analysis_using_k_means_clustering.ipynb\" target=\"_parent\"><img src=\"https://colab.research.google.com/assets/colab-badge.svg\" alt=\"Open In Colab\"/></a>"
      ]
    },
    {
      "cell_type": "markdown",
      "source": [
        "importing the dependencies\n",
        "1.   numpy - for numerical analysis\n",
        "2.   pandas -for Data manipulation and analysis\n",
        "3.   sklearn - To provide the machine learning algorithm\n",
        "4.   Seaborn - Use for data visualization\n",
        "5.   Matplotlib - for data visualization and plot\n",
        "\n",
        "\n",
        "\n",
        "\n",
        "\n",
        "\n"
      ],
      "metadata": {
        "id": "FHvePwZyRaQq"
      }
    },
    {
      "cell_type": "code",
      "execution_count": 1,
      "metadata": {
        "id": "Jec-kVIDN4mc"
      },
      "outputs": [],
      "source": [
        "import numpy as np\n",
        "import pandas as pd\n",
        "import matplotlib.pyplot as plt\n",
        "from sklearn.cluster import KMeans\n",
        "import seaborn as sns"
      ]
    },
    {
      "cell_type": "markdown",
      "source": [
        "Data collection & analysis\n"
      ],
      "metadata": {
        "id": "MncbqkgIUHrZ"
      }
    },
    {
      "cell_type": "markdown",
      "source": [
        "\n",
        "\n",
        "\n",
        "\n",
        "\n",
        "> *  Loading the data from a csv file to a pandas dataframe\n",
        "\n",
        "\n",
        "\n",
        "\n",
        "\n"
      ],
      "metadata": {
        "id": "3ZOmippYW41_"
      }
    },
    {
      "cell_type": "code",
      "source": [],
      "metadata": {
        "id": "_M1dEur0UGj_"
      },
      "execution_count": null,
      "outputs": []
    }
  ]
}